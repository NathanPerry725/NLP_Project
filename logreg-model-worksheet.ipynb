{
 "cells": [
  {
   "cell_type": "code",
   "execution_count": 175,
   "metadata": {
    "ExecuteTime": {
     "end_time": "2021-05-21T00:13:54.443068Z",
     "start_time": "2021-05-21T00:13:54.434681Z"
    }
   },
   "outputs": [],
   "source": [
    "import pandas as pd\n",
    "import numpy as np\n",
    "import sklearn.metrics as metrics\n",
    "import matplotlib.pyplot as plt\n",
    "import datetime\n",
    "\n",
    "from sklearn.linear_model import LogisticRegression\n",
    "from sklearn.feature_extraction.text import CountVectorizer, TfidfVectorizer, ENGLISH_STOP_WORDS\n",
    "from sklearn.pipeline import Pipeline\n",
    "from sklearn.model_selection import train_test_split, GridSearchCV\n",
    "from sklearn.preprocessing import FunctionTransformer\n",
    "from nltk.stem.porter import PorterStemmer"
   ]
  },
  {
   "cell_type": "code",
   "execution_count": 176,
   "metadata": {
    "ExecuteTime": {
     "end_time": "2021-05-21T00:13:54.556448Z",
     "start_time": "2021-05-21T00:13:54.446502Z"
    }
   },
   "outputs": [],
   "source": [
    "# Reading in data\n",
    "df = pd.read_csv('./data/comment_data_oct_nov.csv')"
   ]
  },
  {
   "cell_type": "code",
   "execution_count": 177,
   "metadata": {
    "ExecuteTime": {
     "end_time": "2021-05-21T00:13:54.690416Z",
     "start_time": "2021-05-21T00:13:54.557812Z"
    }
   },
   "outputs": [],
   "source": [
    "# creating column for day posted\n",
    "df['created_utc'] = df.created_utc.apply(lambda x: datetime.datetime.utcfromtimestamp(x))\n",
    "df['day_posted'] = [dt.weekday() for dt in df['created_utc']]"
   ]
  },
  {
   "cell_type": "code",
   "execution_count": 178,
   "metadata": {
    "ExecuteTime": {
     "end_time": "2021-05-21T00:13:54.698859Z",
     "start_time": "2021-05-21T00:13:54.691602Z"
    }
   },
   "outputs": [],
   "source": [
    "# Making subreddit numeric. fantasy football is my positive because we are trying to target\n",
    "# fantasy football players.\n",
    "df['is_ff'] = df['subreddit'].map({'nfl': 0, 'fantasyfootball': 1})\n",
    "df = df.drop(columns = ['subreddit'])"
   ]
  },
  {
   "cell_type": "code",
   "execution_count": 179,
   "metadata": {
    "ExecuteTime": {
     "end_time": "2021-05-21T00:13:54.704280Z",
     "start_time": "2021-05-21T00:13:54.699833Z"
    }
   },
   "outputs": [],
   "source": [
    "# Creating X and y\n",
    "X = df['body']\n",
    "y = df['is_ff']"
   ]
  },
  {
   "cell_type": "code",
   "execution_count": 180,
   "metadata": {
    "ExecuteTime": {
     "end_time": "2021-05-21T00:13:54.708700Z",
     "start_time": "2021-05-21T00:13:54.705228Z"
    }
   },
   "outputs": [
    {
     "data": {
      "text/plain": [
       "0    0.501218\n",
       "1    0.498782\n",
       "Name: is_ff, dtype: float64"
      ]
     },
     "execution_count": 180,
     "metadata": {},
     "output_type": "execute_result"
    }
   ],
   "source": [
    "# Calculating baseline\n",
    "y.value_counts(normalize = True)"
   ]
  },
  {
   "cell_type": "markdown",
   "metadata": {},
   "source": [
    "**Conclusion:** The baseline model predicts all comments as being from the nfl subreddit and is 50.1% accurate."
   ]
  },
  {
   "cell_type": "code",
   "execution_count": 181,
   "metadata": {
    "ExecuteTime": {
     "end_time": "2021-05-21T00:13:54.716440Z",
     "start_time": "2021-05-21T00:13:54.709538Z"
    }
   },
   "outputs": [],
   "source": [
    "# Train test Split\n",
    "X_train, X_test, y_train, y_test = train_test_split(X, y, random_state = 42, test_size = .2, stratify = y)"
   ]
  },
  {
   "cell_type": "code",
   "execution_count": 182,
   "metadata": {
    "ExecuteTime": {
     "end_time": "2021-05-21T00:13:54.721018Z",
     "start_time": "2021-05-21T00:13:54.718389Z"
    }
   },
   "outputs": [],
   "source": [
    "# Function to add filler word for numbers\n",
    "def replace_number(X):\n",
    "    return X.str.replace('\\d{2,}', 'ANUMBER ')\n",
    "replace_number_tf = FunctionTransformer(replace_number, validate = False)"
   ]
  },
  {
   "cell_type": "code",
   "execution_count": 183,
   "metadata": {
    "ExecuteTime": {
     "end_time": "2021-05-21T00:13:54.724828Z",
     "start_time": "2021-05-21T00:13:54.723008Z"
    }
   },
   "outputs": [],
   "source": [
    "# Function to remove tab and newline\n",
    "def filler_chars(X):\n",
    "    return X.str.replace('\\n', ' ').replace('\\t', ' ')\n",
    "filler_chars_tf = FunctionTransformer(filler_chars, validate = False)"
   ]
  },
  {
   "cell_type": "code",
   "execution_count": 184,
   "metadata": {
    "ExecuteTime": {
     "end_time": "2021-05-21T00:13:54.727726Z",
     "start_time": "2021-05-21T00:13:54.725675Z"
    }
   },
   "outputs": [],
   "source": [
    "# Created a function to stem words in the pipeline, Did not improve model\n",
    "def stem_words(X):\n",
    "    stemmer = PorterStemmer()\n",
    "    return pd.Series([' '.join([stemmer.stem(word) for word in line.split(' ')]) for line in X_train])\n",
    "stem_words_tf = FunctionTransformer(stem_words, validate = False)\n"
   ]
  },
  {
   "cell_type": "code",
   "execution_count": 185,
   "metadata": {
    "ExecuteTime": {
     "end_time": "2021-05-21T00:20:18.343127Z",
     "start_time": "2021-05-21T00:13:54.728563Z"
    },
    "scrolled": true
   },
   "outputs": [
    {
     "name": "stdout",
     "output_type": "stream",
     "text": [
      "0.699070673529249\n"
     ]
    },
    {
     "data": {
      "text/plain": [
       "{'model__C': 0.5,\n",
       " 'model__penalty': 'l2',\n",
       " 'vect__max_df': 0.2,\n",
       " 'vect__max_features': 3000,\n",
       " 'vect__min_df': 2,\n",
       " 'vect__ngram_range': (1, 1),\n",
       " 'vect__stop_words': frozenset({'a',\n",
       "            'about',\n",
       "            'above',\n",
       "            'across',\n",
       "            'after',\n",
       "            'afterwards',\n",
       "            'again',\n",
       "            'against',\n",
       "            'all',\n",
       "            'almost',\n",
       "            'alone',\n",
       "            'along',\n",
       "            'already',\n",
       "            'also',\n",
       "            'although',\n",
       "            'always',\n",
       "            'am',\n",
       "            'among',\n",
       "            'amongst',\n",
       "            'amoungst',\n",
       "            'amount',\n",
       "            'an',\n",
       "            'and',\n",
       "            'another',\n",
       "            'any',\n",
       "            'anyhow',\n",
       "            'anyone',\n",
       "            'anything',\n",
       "            'anyway',\n",
       "            'anywhere',\n",
       "            'are',\n",
       "            'around',\n",
       "            'as',\n",
       "            'at',\n",
       "            'back',\n",
       "            'be',\n",
       "            'became',\n",
       "            'because',\n",
       "            'become',\n",
       "            'becomes',\n",
       "            'becoming',\n",
       "            'been',\n",
       "            'before',\n",
       "            'beforehand',\n",
       "            'behind',\n",
       "            'being',\n",
       "            'below',\n",
       "            'beside',\n",
       "            'besides',\n",
       "            'between',\n",
       "            'beyond',\n",
       "            'bill',\n",
       "            'both',\n",
       "            'bottom',\n",
       "            'but',\n",
       "            'by',\n",
       "            'call',\n",
       "            'can',\n",
       "            'cannot',\n",
       "            'cant',\n",
       "            'co',\n",
       "            'con',\n",
       "            'could',\n",
       "            'couldnt',\n",
       "            'cry',\n",
       "            'de',\n",
       "            'describe',\n",
       "            'detail',\n",
       "            'do',\n",
       "            'done',\n",
       "            'down',\n",
       "            'due',\n",
       "            'during',\n",
       "            'each',\n",
       "            'eg',\n",
       "            'eight',\n",
       "            'either',\n",
       "            'eleven',\n",
       "            'else',\n",
       "            'elsewhere',\n",
       "            'empty',\n",
       "            'enough',\n",
       "            'etc',\n",
       "            'even',\n",
       "            'ever',\n",
       "            'every',\n",
       "            'everyone',\n",
       "            'everything',\n",
       "            'everywhere',\n",
       "            'except',\n",
       "            'fantasy',\n",
       "            'few',\n",
       "            'fifteen',\n",
       "            'fifty',\n",
       "            'fill',\n",
       "            'find',\n",
       "            'fire',\n",
       "            'first',\n",
       "            'five',\n",
       "            'for',\n",
       "            'former',\n",
       "            'formerly',\n",
       "            'forty',\n",
       "            'found',\n",
       "            'four',\n",
       "            'from',\n",
       "            'front',\n",
       "            'full',\n",
       "            'further',\n",
       "            'get',\n",
       "            'give',\n",
       "            'go',\n",
       "            'had',\n",
       "            'has',\n",
       "            'hasnt',\n",
       "            'have',\n",
       "            'he',\n",
       "            'hence',\n",
       "            'her',\n",
       "            'here',\n",
       "            'hereafter',\n",
       "            'hereby',\n",
       "            'herein',\n",
       "            'hereupon',\n",
       "            'hers',\n",
       "            'herself',\n",
       "            'him',\n",
       "            'himself',\n",
       "            'his',\n",
       "            'how',\n",
       "            'however',\n",
       "            'hundred',\n",
       "            'i',\n",
       "            'ie',\n",
       "            'if',\n",
       "            'in',\n",
       "            'inc',\n",
       "            'indeed',\n",
       "            'interest',\n",
       "            'into',\n",
       "            'is',\n",
       "            'it',\n",
       "            'its',\n",
       "            'itself',\n",
       "            'keep',\n",
       "            'last',\n",
       "            'latter',\n",
       "            'latterly',\n",
       "            'least',\n",
       "            'less',\n",
       "            'ltd',\n",
       "            'made',\n",
       "            'many',\n",
       "            'may',\n",
       "            'me',\n",
       "            'meanwhile',\n",
       "            'might',\n",
       "            'mill',\n",
       "            'mine',\n",
       "            'more',\n",
       "            'moreover',\n",
       "            'most',\n",
       "            'mostly',\n",
       "            'move',\n",
       "            'much',\n",
       "            'must',\n",
       "            'my',\n",
       "            'myself',\n",
       "            'name',\n",
       "            'namely',\n",
       "            'neither',\n",
       "            'never',\n",
       "            'nevertheless',\n",
       "            'next',\n",
       "            'nfl',\n",
       "            'nine',\n",
       "            'no',\n",
       "            'nobody',\n",
       "            'none',\n",
       "            'noone',\n",
       "            'nor',\n",
       "            'not',\n",
       "            'nothing',\n",
       "            'now',\n",
       "            'nowhere',\n",
       "            'of',\n",
       "            'off',\n",
       "            'often',\n",
       "            'on',\n",
       "            'once',\n",
       "            'one',\n",
       "            'only',\n",
       "            'onto',\n",
       "            'or',\n",
       "            'other',\n",
       "            'others',\n",
       "            'otherwise',\n",
       "            'our',\n",
       "            'ours',\n",
       "            'ourselves',\n",
       "            'out',\n",
       "            'over',\n",
       "            'own',\n",
       "            'part',\n",
       "            'per',\n",
       "            'perhaps',\n",
       "            'please',\n",
       "            'put',\n",
       "            'rather',\n",
       "            're',\n",
       "            'same',\n",
       "            'see',\n",
       "            'seem',\n",
       "            'seemed',\n",
       "            'seeming',\n",
       "            'seems',\n",
       "            'serious',\n",
       "            'several',\n",
       "            'she',\n",
       "            'should',\n",
       "            'show',\n",
       "            'side',\n",
       "            'since',\n",
       "            'sincere',\n",
       "            'six',\n",
       "            'sixty',\n",
       "            'so',\n",
       "            'some',\n",
       "            'somehow',\n",
       "            'someone',\n",
       "            'something',\n",
       "            'sometime',\n",
       "            'sometimes',\n",
       "            'somewhere',\n",
       "            'still',\n",
       "            'such',\n",
       "            'system',\n",
       "            'take',\n",
       "            'ten',\n",
       "            'than',\n",
       "            'that',\n",
       "            'the',\n",
       "            'their',\n",
       "            'them',\n",
       "            'themselves',\n",
       "            'then',\n",
       "            'thence',\n",
       "            'there',\n",
       "            'thereafter',\n",
       "            'thereby',\n",
       "            'therefore',\n",
       "            'therein',\n",
       "            'thereupon',\n",
       "            'these',\n",
       "            'they',\n",
       "            'thick',\n",
       "            'thin',\n",
       "            'third',\n",
       "            'this',\n",
       "            'those',\n",
       "            'though',\n",
       "            'three',\n",
       "            'through',\n",
       "            'throughout',\n",
       "            'thru',\n",
       "            'thus',\n",
       "            'to',\n",
       "            'together',\n",
       "            'too',\n",
       "            'top',\n",
       "            'toward',\n",
       "            'towards',\n",
       "            'twelve',\n",
       "            'twenty',\n",
       "            'two',\n",
       "            'un',\n",
       "            'under',\n",
       "            'until',\n",
       "            'up',\n",
       "            'upon',\n",
       "            'us',\n",
       "            'very',\n",
       "            'via',\n",
       "            'was',\n",
       "            'we',\n",
       "            'well',\n",
       "            'were',\n",
       "            'what',\n",
       "            'whatever',\n",
       "            'when',\n",
       "            'whence',\n",
       "            'whenever',\n",
       "            'where',\n",
       "            'whereafter',\n",
       "            'whereas',\n",
       "            'whereby',\n",
       "            'wherein',\n",
       "            'whereupon',\n",
       "            'wherever',\n",
       "            'whether',\n",
       "            'which',\n",
       "            'while',\n",
       "            'whither',\n",
       "            'who',\n",
       "            'whoever',\n",
       "            'whole',\n",
       "            'whom',\n",
       "            'whose',\n",
       "            'why',\n",
       "            'will',\n",
       "            'with',\n",
       "            'within',\n",
       "            'without',\n",
       "            'would',\n",
       "            'yet',\n",
       "            'you',\n",
       "            'your',\n",
       "            'yours',\n",
       "            'yourself',\n",
       "            'yourselves'}),\n",
       " 'vect__token_pattern': '(?u)\\\\b[A-z]+\\\\b'}"
      ]
     },
     "execution_count": 185,
     "metadata": {},
     "output_type": "execute_result"
    }
   ],
   "source": [
    "# Pipeline and gridsearch to optimize model\n",
    "pipe = Pipeline([\n",
    "    ('replace_number_tf', replace_number_tf),\n",
    "    ('filler_chars_tf', filler_chars_tf),\n",
    "    ('vect', CountVectorizer(binary = True, strip_accents='ascii')),\n",
    "    ('model', LogisticRegression(solver = 'liblinear'))\n",
    "])\n",
    "\n",
    "grid = {\n",
    "    'vect__token_pattern': ['(?u)\\\\b\\\\w\\\\w+\\\\b', '(?u)\\\\b[A-z]+\\\\b'],\n",
    "    'vect__min_df': range(1,5),\n",
    "    'vect__max_df':[.05, .1, .2, .5],\n",
    "    'vect__max_features': [1000, 2000, 3000],\n",
    "    'vect__stop_words': [ENGLISH_STOP_WORDS.union(['nfl','fantasy'])],\n",
    "    'vect__ngram_range': [(1,1)],\n",
    "    'model__penalty': ['l1','l2'],\n",
    "    'model__C': [.3, .5, .7]\n",
    "}\n",
    "gs = GridSearchCV(pipe, param_grid=grid, scoring = 'recall')\n",
    "gs.fit(X_train, y_train)\n",
    "print(gs.best_score_) # cross val score\n",
    "gs.best_params_"
   ]
  },
  {
   "cell_type": "code",
   "execution_count": 200,
   "metadata": {
    "ExecuteTime": {
     "end_time": "2021-05-21T00:41:29.748920Z",
     "start_time": "2021-05-21T00:41:29.635784Z"
    }
   },
   "outputs": [
    {
     "data": {
      "image/png": "[encoded data removed]",
      "text/plain": [
       "<Figure size 432x288 with 2 Axes>"
      ]
     },
     "metadata": {
      "needs_background": "light"
     },
     "output_type": "display_data"
    }
   ],
   "source": [
    "# Confusion matrix of the test data\n",
    "metrics.plot_confusion_matrix(gs, X_test, y_test)\n",
    "plt.title('Confusion Matrix of Test Predictions')\n",
    "plt.yticks([0,1],['nfl', 'ff'])\n",
    "plt.xticks([0,1],['nfl', 'ff']);"
   ]
  },
  {
   "cell_type": "code",
   "execution_count": 192,
   "metadata": {
    "ExecuteTime": {
     "end_time": "2021-05-21T00:22:08.516444Z",
     "start_time": "2021-05-21T00:22:08.508795Z"
    }
   },
   "outputs": [
    {
     "data": {
      "text/plain": [
       "0.707808564231738"
      ]
     },
     "execution_count": 192,
     "metadata": {},
     "output_type": "execute_result"
    }
   ],
   "source": [
    "# Calculating Test Accuracy\n",
    "(800 + 886)/ (800 + 886 + 388 + 308)"
   ]
  },
  {
   "cell_type": "code",
   "execution_count": 193,
   "metadata": {
    "ExecuteTime": {
     "end_time": "2021-05-21T00:22:21.978949Z",
     "start_time": "2021-05-21T00:22:21.976433Z"
    }
   },
   "outputs": [
    {
     "data": {
      "text/plain": [
       "0.6734006734006734"
      ]
     },
     "execution_count": 193,
     "metadata": {},
     "output_type": "execute_result"
    }
   ],
   "source": [
    "# Calculating Test Recall\n",
    "800/(800 + 388)"
   ]
  },
  {
   "cell_type": "markdown",
   "metadata": {},
   "source": [
    "**Conclusions:** With an accuracy score of .71 and a recall of .67, this model greatly outperforms the baseline. If used to help target advertising, the advertisements would be expected to reach 67% of people interested in fantasy football while saving the company a large amount in advertising costs. I had hoped to optimize my recall a bit more to reduce the number of potential customers missed, but was unable to do so without badly hurting my accuracy. I am selecting this model because even though it has a slightly worse accuracy than the Random Forest, I value recall more in this application."
   ]
  },
  {
   "cell_type": "code",
   "execution_count": 189,
   "metadata": {
    "ExecuteTime": {
     "end_time": "2021-05-21T00:20:18.464311Z",
     "start_time": "2021-05-21T00:20:18.460279Z"
    }
   },
   "outputs": [],
   "source": [
    "# Creating Dataframe of coefficients\n",
    "coef_df = pd.DataFrame(gs.best_estimator_.named_steps['model'].coef_[0],\n",
    "            index = gs.best_estimator_.named_steps['vect'].get_feature_names(), \n",
    "            columns = ['coef'])"
   ]
  },
  {
   "cell_type": "code",
   "execution_count": 195,
   "metadata": {
    "ExecuteTime": {
     "end_time": "2021-05-21T00:23:59.471379Z",
     "start_time": "2021-05-21T00:23:59.115718Z"
    }
   },
   "outputs": [
    {
     "data": {
      "image/png": "[encoded data removed]",
      "text/plain": [
       "<Figure size 1440x576 with 1 Axes>"
      ]
     },
     "metadata": {
      "needs_background": "light"
     },
     "output_type": "display_data"
    }
   ],
   "source": [
    "# Making a bar graph to see which words have the largest negative effect on the model\n",
    "plt.figure(figsize = (20, 8))\n",
    "plt.bar(coef_df.sort_values(by = 'coef', ascending = True).head(10).index,\n",
    "       abs(coef_df.sort_values(by = 'coef', ascending = True).head(10)['coef']))\n",
    "plt.title('Strongest Predictors of NFL Subreddit', fontsize = 18)\n",
    "plt.xlabel('Words', fontsize = 14)\n",
    "plt.ylabel('Absolute Value of Coefficient', fontsize = 14);"
   ]
  },
  {
   "cell_type": "markdown",
   "metadata": {},
   "source": [
    "**Conclusions:** These are the words that the model has determined have the largest impact in the negative direction meaning they predict the nfl subreddit. Two words that jump out to me are trevor and lawrence. Trevor Lawrence was a college player at the time and was recently darafted 1st overall. It makes sense that football fans would care about him, but because he is not in the nfl, he is unimportant to fantasy football. The word punter also makes sense as fantasy teams do not have punters."
   ]
  },
  {
   "cell_type": "code",
   "execution_count": 196,
   "metadata": {
    "ExecuteTime": {
     "end_time": "2021-05-21T00:24:47.619239Z",
     "start_time": "2021-05-21T00:24:47.463737Z"
    }
   },
   "outputs": [
    {
     "data": {
      "image/png": "[encoded data removed]",
      "text/plain": [
       "<Figure size 1440x576 with 1 Axes>"
      ]
     },
     "metadata": {
      "needs_background": "light"
     },
     "output_type": "display_data"
    }
   ],
   "source": [
    "# Bar Graph to see which words have the strongest positive effect on the model\n",
    "plt.figure(figsize = (20, 8))\n",
    "plt.bar(coef_df.sort_values(by = 'coef', ascending = False).head(10).index,\n",
    "       coef_df.sort_values(by = 'coef', ascending = False).head(10)['coef'])\n",
    "plt.title('Strongest Predictors of Fantasy Football Subreddit', fontsize = 18)\n",
    "plt.xlabel('Words', fontsize = 14)\n",
    "plt.ylabel('Coefficient', fontsize = 14);"
   ]
  },
  {
   "cell_type": "markdown",
   "metadata": {},
   "source": [
    "**Conclusions:** These are the words that have the largest effect in the positive direction meaning they predict the fantasy football subreddit. This list is mostly made up of high performing individual players. Whereas football fans tend to care about only their team, fantasy players are very interested in strong statistical performers. Two other words that jump out are ros and backfield. ROS means rest of schedule and is used as a metric when identifying a players value. A backfield is the running backs of a team. When evaluating running backs fantasy owners worry about \"Crowded Backfields\" meaning that the team has many running backs competing for points. "
   ]
  }
 ],
 "metadata": {
  "kernelspec": {
   "display_name": "Python 3",
   "language": "python",
   "name": "python3"
  },
  "language_info": {
   "codemirror_mode": {
    "name": "ipython",
    "version": 3
   },
   "file_extension": ".py",
   "mimetype": "text/x-python",
   "name": "python",
   "nbconvert_exporter": "python",
   "pygments_lexer": "ipython3",
   "version": "3.8.5"
  }
 },
 "nbformat": 4,
 "nbformat_minor": 4
}
