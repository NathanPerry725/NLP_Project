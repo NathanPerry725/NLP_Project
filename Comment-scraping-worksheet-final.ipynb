{
 "cells": [
  {
   "cell_type": "code",
   "execution_count": 1,
   "metadata": {
    "ExecuteTime": {
     "end_time": "2021-05-20T02:13:38.106629Z",
     "start_time": "2021-05-20T02:13:37.459221Z"
    }
   },
   "outputs": [],
   "source": [
    "import requests\n",
    "import pandas as pd\n",
    "import time\n",
    "import datetime"
   ]
  },
  {
   "cell_type": "code",
   "execution_count": 2,
   "metadata": {
    "ExecuteTime": {
     "end_time": "2021-05-20T02:13:38.111579Z",
     "start_time": "2021-05-20T02:13:38.108265Z"
    }
   },
   "outputs": [],
   "source": [
    "# Function to scrape top 100 comements in each subreddit per day\n",
    "def scrape_comments_daily(scrape_date):\n",
    "    # Setting url to look at comments\n",
    "    url = 'https://api.pushshift.io/reddit/search/comment'\n",
    "    # Setting interval to scrape once per day\n",
    "    day_int = datetime.timedelta(days=1)\n",
    "    # Setting parmeters(top 100 comments by score from each subreddit per day)\n",
    "    paramsnfl = {\n",
    "        'subreddit': 'nfl',\n",
    "        'size': 100,\n",
    "        'sort_type': 'score',\n",
    "        'sort': 'desc',\n",
    "        'before': scrape_date + day_int,\n",
    "        'after': scrape_date\n",
    "    }\n",
    "    paramsff = {\n",
    "        'subreddit': 'fantasyfootball',\n",
    "        'size': 100,\n",
    "        'sort_type': 'score',\n",
    "        'sort': 'desc',\n",
    "        'before': scrape_date + day_int,\n",
    "        'after': scrape_date\n",
    "    }\n",
    "    # Making requests and creating dataframes\n",
    "    resnfl = requests.get(url, paramsnfl)\n",
    "    resff = requests.get(url, paramsff)\n",
    "    datanfl = resnfl.json()\n",
    "    dataff = resff.json()\n",
    "    commentsnfl = datanfl['data']\n",
    "    commentsff = dataff['data']\n",
    "    dfnfl = pd.DataFrame(commentsnfl)\n",
    "    dfff = pd.DataFrame(commentsff)\n",
    "    # Concatenating into one dataframe\n",
    "    df = pd.concat([dfnfl,dfff], ignore_index=True)\n",
    "    # Returning dataframe\n",
    "    return df"
   ]
  },
  {
   "cell_type": "code",
   "execution_count": 3,
   "metadata": {
    "ExecuteTime": {
     "end_time": "2021-05-20T02:34:48.875478Z",
     "start_time": "2021-05-20T02:13:38.112826Z"
    }
   },
   "outputs": [
    {
     "name": "stdout",
     "output_type": "stream",
     "text": [
      "2020-10-01 / 2020-11-30\n",
      "2020-10-02 / 2020-11-30\n",
      "2020-10-03 / 2020-11-30\n",
      "2020-10-04 / 2020-11-30\n",
      "2020-10-05 / 2020-11-30\n",
      "2020-10-06 / 2020-11-30\n",
      "2020-10-07 / 2020-11-30\n",
      "2020-10-08 / 2020-11-30\n",
      "2020-10-09 / 2020-11-30\n",
      "2020-10-10 / 2020-11-30\n",
      "2020-10-11 / 2020-11-30\n",
      "2020-10-12 / 2020-11-30\n",
      "2020-10-13 / 2020-11-30\n",
      "2020-10-14 / 2020-11-30\n",
      "2020-10-15 / 2020-11-30\n",
      "2020-10-16 / 2020-11-30\n",
      "2020-10-17 / 2020-11-30\n",
      "2020-10-18 / 2020-11-30\n",
      "2020-10-19 / 2020-11-30\n",
      "2020-10-20 / 2020-11-30\n",
      "2020-10-21 / 2020-11-30\n",
      "2020-10-22 / 2020-11-30\n",
      "2020-10-23 / 2020-11-30\n",
      "2020-10-24 / 2020-11-30\n",
      "2020-10-25 / 2020-11-30\n",
      "2020-10-26 / 2020-11-30\n",
      "2020-10-27 / 2020-11-30\n",
      "2020-10-28 / 2020-11-30\n",
      "2020-10-29 / 2020-11-30\n",
      "2020-10-30 / 2020-11-30\n",
      "2020-10-31 / 2020-11-30\n",
      "2020-11-01 / 2020-11-30\n",
      "2020-11-02 / 2020-11-30\n",
      "2020-11-03 / 2020-11-30\n",
      "2020-11-04 / 2020-11-30\n",
      "2020-11-05 / 2020-11-30\n",
      "2020-11-06 / 2020-11-30\n",
      "2020-11-07 / 2020-11-30\n",
      "2020-11-08 / 2020-11-30\n",
      "2020-11-09 / 2020-11-30\n",
      "2020-11-10 / 2020-11-30\n",
      "2020-11-11 / 2020-11-30\n",
      "2020-11-12 / 2020-11-30\n",
      "2020-11-13 / 2020-11-30\n",
      "2020-11-14 / 2020-11-30\n",
      "2020-11-15 / 2020-11-30\n",
      "2020-11-16 / 2020-11-30\n",
      "2020-11-17 / 2020-11-30\n",
      "2020-11-18 / 2020-11-30\n",
      "2020-11-19 / 2020-11-30\n",
      "2020-11-20 / 2020-11-30\n",
      "2020-11-21 / 2020-11-30\n",
      "2020-11-22 / 2020-11-30\n",
      "2020-11-23 / 2020-11-30\n",
      "2020-11-24 / 2020-11-30\n",
      "2020-11-25 / 2020-11-30\n",
      "2020-11-26 / 2020-11-30\n",
      "2020-11-27 / 2020-11-30\n",
      "2020-11-28 / 2020-11-30\n",
      "2020-11-29 / 2020-11-30\n",
      "2020-11-30 / 2020-11-30\n"
     ]
    }
   ],
   "source": [
    "# Setting start and end date for scrape, Scraping 200 posts a day from each subreddit for OCT, NOV 2020\n",
    "start_date = datetime.date(2020, 10, 1)\n",
    "end_date = datetime.date(2020, 11, 30)\n",
    "delta = datetime.timedelta(days=1)\n",
    "# Creating the dataframe before looping\n",
    "df = scrape_comments_daily(start_date)\n",
    "print(start_date,'/',end_date)\n",
    "start_date += delta\n",
    "# looping through all dates and adding comments to dataframe\n",
    "while start_date <= end_date:\n",
    "    df2 = scrape_comments_daily(start_date)\n",
    "    df = pd.concat([df, df2], ignore_index = True)\n",
    "    # Print statement to help me see how far along the scrape is\n",
    "    print(start_date,'/',end_date)\n",
    "    start_date += delta\n",
    "    # Preventing errors from making too many requests in a short time\n",
    "    time.sleep(20)\n",
    "# Removing duplicates\n",
    "df.drop_duplicates(subset = ['body', 'subreddit'], inplace = True)"
   ]
  },
  {
   "cell_type": "code",
   "execution_count": 4,
   "metadata": {
    "ExecuteTime": {
     "end_time": "2021-05-20T02:34:49.059428Z",
     "start_time": "2021-05-20T02:34:48.877538Z"
    }
   },
   "outputs": [],
   "source": [
    "df.to_csv('./data/comment_data_oct_nov.csv')"
   ]
  },
  {
   "cell_type": "code",
   "execution_count": null,
   "metadata": {},
   "outputs": [],
   "source": []
  }
 ],
 "metadata": {
  "kernelspec": {
   "display_name": "Python 3",
   "language": "python",
   "name": "python3"
  },
  "language_info": {
   "codemirror_mode": {
    "name": "ipython",
    "version": 3
   },
   "file_extension": ".py",
   "mimetype": "text/x-python",
   "name": "python",
   "nbconvert_exporter": "python",
   "pygments_lexer": "ipython3",
   "version": "3.8.5"
  }
 },
 "nbformat": 4,
 "nbformat_minor": 4
}
