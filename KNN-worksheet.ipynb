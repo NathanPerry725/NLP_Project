{
 "cells": [
  {
   "cell_type": "code",
   "execution_count": 1,
   "metadata": {
    "ExecuteTime": {
     "end_time": "2021-05-21T00:21:21.433059Z",
     "start_time": "2021-05-21T00:21:20.385764Z"
    }
   },
   "outputs": [],
   "source": [
    "import pandas as pd\n",
    "import sklearn.metrics as metrics\n",
    "\n",
    "from sklearn.model_selection import cross_val_score, StratifiedKFold, GridSearchCV, train_test_split\n",
    "from sklearn.tree import DecisionTreeClassifier\n",
    "from sklearn.pipeline import Pipeline\n",
    "from sklearn.preprocessing import FunctionTransformer, StandardScaler\n",
    "from sklearn.neighbors import KNeighborsClassifier\n",
    "from sklearn.feature_extraction.text import CountVectorizer, TfidfVectorizer, ENGLISH_STOP_WORDS"
   ]
  },
  {
   "cell_type": "code",
   "execution_count": 2,
   "metadata": {
    "ExecuteTime": {
     "end_time": "2021-05-21T00:21:21.514254Z",
     "start_time": "2021-05-21T00:21:21.434239Z"
    }
   },
   "outputs": [],
   "source": [
    "df = pd.read_csv('./data/comment_data_oct_nov.csv')"
   ]
  },
  {
   "cell_type": "code",
   "execution_count": 3,
   "metadata": {
    "ExecuteTime": {
     "end_time": "2021-05-21T00:21:21.523673Z",
     "start_time": "2021-05-21T00:21:21.515575Z"
    }
   },
   "outputs": [],
   "source": [
    "X = df['body']\n",
    "y = df['subreddit'].map({'nfl': 0, 'fantasyfootball': 1})\n",
    "X_train, X_test, y_train, y_test = train_test_split(X,  y, test_size = .2, random_state = 123, stratify = y)"
   ]
  },
  {
   "cell_type": "code",
   "execution_count": 4,
   "metadata": {
    "ExecuteTime": {
     "end_time": "2021-05-21T00:21:21.531025Z",
     "start_time": "2021-05-21T00:21:21.527599Z"
    }
   },
   "outputs": [],
   "source": [
    "def replace_number(X):\n",
    "    return X.str.replace('\\d{2,}', ' ANUMBER ')\n",
    "replace_number_tf = FunctionTransformer(replace_number, validate = False)"
   ]
  },
  {
   "cell_type": "code",
   "execution_count": 5,
   "metadata": {
    "ExecuteTime": {
     "end_time": "2021-05-21T00:21:21.534551Z",
     "start_time": "2021-05-21T00:21:21.532331Z"
    }
   },
   "outputs": [],
   "source": [
    "def filler_chars(X):\n",
    "    return X.str.replace('\\n', ' ').replace('\\t', ' ')\n",
    "filler_chars_tf = FunctionTransformer(filler_chars, validate = False)"
   ]
  },
  {
   "cell_type": "code",
   "execution_count": 6,
   "metadata": {
    "ExecuteTime": {
     "end_time": "2021-05-21T00:25:33.477960Z",
     "start_time": "2021-05-21T00:21:21.535665Z"
    }
   },
   "outputs": [
    {
     "name": "stdout",
     "output_type": "stream",
     "text": [
      "0.5964093496707455\n"
     ]
    },
    {
     "data": {
      "text/plain": [
       "{'model__metric': 'euclidean',\n",
       " 'model__n_neighbors': 3,\n",
       " 'model__weights': 'uniform',\n",
       " 'vect__max_df': 0.3,\n",
       " 'vect__max_features': 2000,\n",
       " 'vect__min_df': 1}"
      ]
     },
     "execution_count": 6,
     "metadata": {},
     "output_type": "execute_result"
    }
   ],
   "source": [
    "# pipeline and gridsearch for optimization\n",
    "pipe = Pipeline([\n",
    "    ('replace_number_tf', replace_number_tf),\n",
    "    ('filler_chars_tf', filler_chars_tf),\n",
    "    ('vect', TfidfVectorizer(binary=True, strip_accents = 'ascii',\n",
    "                             stop_words = ENGLISH_STOP_WORDS.union(['nfl', 'fantasy','football']))),\n",
    "    ('ss', StandardScaler(with_mean = False)),\n",
    "    ('model', KNeighborsClassifier())\n",
    "])\n",
    "grid ={\n",
    "    'vect__min_df': [1,2],\n",
    "    'vect__max_df': [.3, .4, .5],\n",
    "    'vect__max_features': [1000, 2000],\n",
    "    'model__n_neighbors': [3, 5, 7],\n",
    "    'model__weights':['uniform', 'distance'],\n",
    "    'model__metric': ['euclidean', 'manhattan']\n",
    "}\n",
    "\n",
    "gs = GridSearchCV(pipe, param_grid = grid)\n",
    "gs.fit(X_train, y_train)\n",
    "print(gs.best_score_) # cross val score\n",
    "gs.best_params_"
   ]
  },
  {
   "cell_type": "code",
   "execution_count": 7,
   "metadata": {
    "ExecuteTime": {
     "end_time": "2021-05-21T00:25:34.184844Z",
     "start_time": "2021-05-21T00:25:33.478877Z"
    }
   },
   "outputs": [
    {
     "data": {
      "image/png": "[encoded data removed]",
      "text/plain": [
       "<Figure size 432x288 with 2 Axes>"
      ]
     },
     "metadata": {
      "needs_background": "light"
     },
     "output_type": "display_data"
    }
   ],
   "source": [
    "metrics.plot_confusion_matrix(gs, X_test, y_test);"
   ]
  },
  {
   "cell_type": "code",
   "execution_count": 8,
   "metadata": {
    "ExecuteTime": {
     "end_time": "2021-05-21T00:25:34.188781Z",
     "start_time": "2021-05-21T00:25:34.186671Z"
    }
   },
   "outputs": [
    {
     "data": {
      "text/plain": [
       "0.5554156171284634"
      ]
     },
     "execution_count": 8,
     "metadata": {},
     "output_type": "execute_result"
    }
   ],
   "source": [
    "# Calculating test Accuracy\n",
    "(1551 + 3741)/(1551 + 3741 + 3225 + 1011)"
   ]
  },
  {
   "cell_type": "code",
   "execution_count": 9,
   "metadata": {
    "ExecuteTime": {
     "end_time": "2021-05-21T00:25:34.191594Z",
     "start_time": "2021-05-21T00:25:34.189800Z"
    }
   },
   "outputs": [
    {
     "data": {
      "text/plain": [
       "0.7872474747474747"
      ]
     },
     "execution_count": 9,
     "metadata": {},
     "output_type": "execute_result"
    }
   ],
   "source": [
    "# Calculating test Recall\n",
    "3741/(3741 + 1011)"
   ]
  },
  {
   "cell_type": "markdown",
   "metadata": {},
   "source": [
    "**Conclusions:** This model underperforms. Its accuracy barely beats baseline. It has an excellent recall which means very few potential customers will be missed, but the accuracy is so low that the targeted advertising would not save money. Because the model underperforms, no further analysis will be done."
   ]
  }
 ],
 "metadata": {
  "kernelspec": {
   "display_name": "Python 3",
   "language": "python",
   "name": "python3"
  },
  "language_info": {
   "codemirror_mode": {
    "name": "ipython",
    "version": 3
   },
   "file_extension": ".py",
   "mimetype": "text/x-python",
   "name": "python",
   "nbconvert_exporter": "python",
   "pygments_lexer": "ipython3",
   "version": "3.8.5"
  }
 },
 "nbformat": 4,
 "nbformat_minor": 4
}
