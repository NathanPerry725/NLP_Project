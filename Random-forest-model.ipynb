{
 "cells": [
  {
   "cell_type": "code",
   "execution_count": 130,
   "metadata": {
    "ExecuteTime": {
     "end_time": "2021-05-21T01:16:31.172510Z",
     "start_time": "2021-05-21T01:16:31.169400Z"
    }
   },
   "outputs": [],
   "source": [
    "import pandas as pd\n",
    "\n",
    "from sklearn import metrics\n",
    "from sklearn.model_selection import cross_val_score, StratifiedKFold, GridSearchCV, train_test_split\n",
    "from sklearn.tree import DecisionTreeClassifier\n",
    "from sklearn.pipeline import Pipeline\n",
    "from sklearn.preprocessing import FunctionTransformer\n",
    "from sklearn.ensemble import RandomForestClassifier, ExtraTreesClassifier, BaggingClassifier\n",
    "from sklearn.feature_extraction.text import CountVectorizer, TfidfVectorizer, ENGLISH_STOP_WORDS"
   ]
  },
  {
   "cell_type": "code",
   "execution_count": 131,
   "metadata": {
    "ExecuteTime": {
     "end_time": "2021-05-21T01:16:31.250806Z",
     "start_time": "2021-05-21T01:16:31.173855Z"
    }
   },
   "outputs": [],
   "source": [
    "#Importing Data\n",
    "df = pd.read_csv('./data/comment_data_oct_nov.csv')"
   ]
  },
  {
   "cell_type": "code",
   "execution_count": 132,
   "metadata": {
    "ExecuteTime": {
     "end_time": "2021-05-21T01:16:31.257274Z",
     "start_time": "2021-05-21T01:16:31.252002Z"
    }
   },
   "outputs": [
    {
     "data": {
      "text/plain": [
       "0    0.501218\n",
       "1    0.498782\n",
       "Name: subreddit, dtype: float64"
      ]
     },
     "execution_count": 132,
     "metadata": {},
     "output_type": "execute_result"
    }
   ],
   "source": [
    "# Calculating Baseline\n",
    "y.value_counts(normalize = True)"
   ]
  },
  {
   "cell_type": "code",
   "execution_count": 133,
   "metadata": {
    "ExecuteTime": {
     "end_time": "2021-05-21T01:16:31.281976Z",
     "start_time": "2021-05-21T01:16:31.258091Z"
    }
   },
   "outputs": [],
   "source": [
    "# Creating X and y and train test split\n",
    "X = df['body']\n",
    "y = df['subreddit'].map({'nfl': 0, 'fantasyfootball': 1})\n",
    "X_train, X_test, y_train, y_test = train_test_split(X,  y, test_size = .2, random_state = 123, stratify = y)"
   ]
  },
  {
   "cell_type": "code",
   "execution_count": 134,
   "metadata": {
    "ExecuteTime": {
     "end_time": "2021-05-21T01:16:31.285041Z",
     "start_time": "2021-05-21T01:16:31.282894Z"
    }
   },
   "outputs": [],
   "source": [
    "# Function to replace numbers\n",
    "def replace_number(X):\n",
    "    return X.str.replace('\\d{2,}', ' ANUMBER ')\n",
    "replace_number_tf = FunctionTransformer(replace_number, validate = False)"
   ]
  },
  {
   "cell_type": "code",
   "execution_count": 135,
   "metadata": {
    "ExecuteTime": {
     "end_time": "2021-05-21T01:16:31.287771Z",
     "start_time": "2021-05-21T01:16:31.285976Z"
    }
   },
   "outputs": [],
   "source": [
    "# Function to replace tab and new line\n",
    "def filler_chars(X):\n",
    "    return X.str.replace('\\n', ' ').replace('\\t', ' ')\n",
    "filler_chars_tf = FunctionTransformer(filler_chars, validate = False)"
   ]
  },
  {
   "cell_type": "code",
   "execution_count": 137,
   "metadata": {
    "ExecuteTime": {
     "end_time": "2021-05-21T01:22:49.416482Z",
     "start_time": "2021-05-21T01:19:15.439828Z"
    }
   },
   "outputs": [
    {
     "name": "stdout",
     "output_type": "stream",
     "text": [
      "0.6962324253015068\n"
     ]
    },
    {
     "data": {
      "text/plain": [
       "{'model__max_depth': 10,\n",
       " 'model__max_features': 5,\n",
       " 'model__n_estimators': 500,\n",
       " 'vect__max_df': 0.3,\n",
       " 'vect__max_features': 2000,\n",
       " 'vect__min_df': 2}"
      ]
     },
     "execution_count": 137,
     "metadata": {},
     "output_type": "execute_result"
    }
   ],
   "source": [
    "# Pipeline and gridsearch to optimize model\n",
    "pipe = Pipeline([\n",
    "    ('replace_number_tf', replace_number_tf),\n",
    "    ('filler_chars_tf', filler_chars_tf),\n",
    "    ('vect', TfidfVectorizer(binary=True, strip_accents = 'ascii', stop_words = ENGLISH_STOP_WORDS.union(['nfl', 'fantasy','football']))),\n",
    "    ('model', RandomForestClassifier(class_weight = 'balanced', random_state = 42))\n",
    "])\n",
    "\n",
    "grid = {\n",
    "    'vect__min_df': [1,2],\n",
    "    'vect__max_df': [.3, .5],\n",
    "    'vect__max_features': [1000, 2000],\n",
    "    'model__max_depth':[1, 10],\n",
    "    'model__n_estimators': [300, 500],\n",
    "    'model__max_features': [5, 10]\n",
    "}\n",
    "\n",
    "gs = GridSearchCV(pipe, param_grid = grid)\n",
    "gs.fit(X_train, y_train)\n",
    "print(gs.best_score_) # cross val score\n",
    "gs.best_params_"
   ]
  },
  {
   "cell_type": "code",
   "execution_count": 138,
   "metadata": {
    "ExecuteTime": {
     "end_time": "2021-05-21T01:25:21.694674Z",
     "start_time": "2021-05-21T01:25:21.463982Z"
    }
   },
   "outputs": [
    {
     "data": {
      "image/png": "[encoded data removed]",
      "text/plain": [
       "<Figure size 432x288 with 2 Axes>"
      ]
     },
     "metadata": {
      "needs_background": "light"
     },
     "output_type": "display_data"
    }
   ],
   "source": [
    "# Confusion matrix of the test data\n",
    "metrics.plot_confusion_matrix(gs, X_test, y_test);"
   ]
  },
  {
   "cell_type": "code",
   "execution_count": 139,
   "metadata": {
    "ExecuteTime": {
     "end_time": "2021-05-21T01:25:50.578560Z",
     "start_time": "2021-05-21T01:25:50.573435Z"
    }
   },
   "outputs": [
    {
     "data": {
      "text/plain": [
       "0.7204030226700252"
      ]
     },
     "execution_count": 139,
     "metadata": {},
     "output_type": "execute_result"
    }
   ],
   "source": [
    "# Calculating Accuracy\n",
    "(750 + 966)/(750 + 966 + 438 + 228)"
   ]
  },
  {
   "cell_type": "code",
   "execution_count": 140,
   "metadata": {
    "ExecuteTime": {
     "end_time": "2021-05-21T01:26:10.322051Z",
     "start_time": "2021-05-21T01:26:10.317663Z"
    }
   },
   "outputs": [
    {
     "data": {
      "text/plain": [
       "0.6313131313131313"
      ]
     },
     "execution_count": 140,
     "metadata": {},
     "output_type": "execute_result"
    }
   ],
   "source": [
    "# Calculating test Recall\n",
    "750/ (750 + 438)"
   ]
  },
  {
   "cell_type": "markdown",
   "metadata": {},
   "source": [
    "**Conclusions:** This model performs well. It has the highest accuracy of any of my models of 72%. Though the accuracy is great, I will be using my Logistic Regression model because it has a higher recall. Because I am attempting to target advertising, I want to make sure my model misses as few potential customers as possible. The Logistic Regression's 4% better recall is more important to me than the Random Forest's 1% better accuracy."
   ]
  }
 ],
 "metadata": {
  "kernelspec": {
   "display_name": "Python 3",
   "language": "python",
   "name": "python3"
  },
  "language_info": {
   "codemirror_mode": {
    "name": "ipython",
    "version": 3
   },
   "file_extension": ".py",
   "mimetype": "text/x-python",
   "name": "python",
   "nbconvert_exporter": "python",
   "pygments_lexer": "ipython3",
   "version": "3.8.5"
  }
 },
 "nbformat": 4,
 "nbformat_minor": 4
}
